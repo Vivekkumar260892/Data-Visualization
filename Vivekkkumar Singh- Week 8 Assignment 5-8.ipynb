{
 "cells": [
  {
   "cell_type": "markdown",
   "metadata": {},
   "source": [
    "## Assignment 5"
   ]
  },
  {
   "cell_type": "markdown",
   "metadata": {},
   "source": [
    "### Q1 Can you create a random sample of 500 rows from that dataset?"
   ]
  },
  {
   "cell_type": "code",
   "execution_count": 32,
   "metadata": {},
   "outputs": [
    {
     "name": "stdout",
     "output_type": "stream",
     "text": [
      "          fname     lname  gender  age  exercise  hours  grade  \\\n",
      "1995       Cody  Shepherd    male   19         1      8   80.1   \n",
      "1996  Geraldine  Peterson  female   16         4     18  100.0   \n",
      "1997   Mercedes      Leon  female   18         3     14   84.9   \n",
      "1998     Lucius   Rowland    male   16         1      7   69.1   \n",
      "1999      Linus    Morris    male   19         4     10   79.6   \n",
      "\n",
      "                                          address  \n",
      "1995        982 West Street, Alexandria, VA 22304  \n",
      "1996   78 Morris Street, East Northport, NY 11731  \n",
      "1997        30 Glenridge Rd., Bountiful, UT 84010  \n",
      "1998  342 West Meadowbrook Lane, Helena, MT 59601  \n",
      "1999       81 Homestead Drive, Voorhees, NJ 08043  \n"
     ]
    },
    {
     "data": {
      "text/html": [
       "<div>\n",
       "<style scoped>\n",
       "    .dataframe tbody tr th:only-of-type {\n",
       "        vertical-align: middle;\n",
       "    }\n",
       "\n",
       "    .dataframe tbody tr th {\n",
       "        vertical-align: top;\n",
       "    }\n",
       "\n",
       "    .dataframe thead th {\n",
       "        text-align: right;\n",
       "    }\n",
       "</style>\n",
       "<table border=\"1\" class=\"dataframe\">\n",
       "  <thead>\n",
       "    <tr style=\"text-align: right;\">\n",
       "      <th></th>\n",
       "      <th>fname</th>\n",
       "      <th>lname</th>\n",
       "      <th>gender</th>\n",
       "      <th>age</th>\n",
       "      <th>exercise</th>\n",
       "      <th>hours</th>\n",
       "      <th>grade</th>\n",
       "      <th>address</th>\n",
       "    </tr>\n",
       "  </thead>\n",
       "  <tbody>\n",
       "    <tr>\n",
       "      <td>139</td>\n",
       "      <td>Gregory</td>\n",
       "      <td>Lawrence</td>\n",
       "      <td>male</td>\n",
       "      <td>19</td>\n",
       "      <td>3</td>\n",
       "      <td>14</td>\n",
       "      <td>86.8</td>\n",
       "      <td>6 North Bohemia Dr., Stockbridge, GA 30281</td>\n",
       "    </tr>\n",
       "    <tr>\n",
       "      <td>530</td>\n",
       "      <td>Robert</td>\n",
       "      <td>Bass</td>\n",
       "      <td>male</td>\n",
       "      <td>16</td>\n",
       "      <td>4</td>\n",
       "      <td>9</td>\n",
       "      <td>73.8</td>\n",
       "      <td>21 S. Somerset Street, San Diego, CA 92111</td>\n",
       "    </tr>\n",
       "    <tr>\n",
       "      <td>352</td>\n",
       "      <td>Ciara</td>\n",
       "      <td>Valdez</td>\n",
       "      <td>female</td>\n",
       "      <td>19</td>\n",
       "      <td>4</td>\n",
       "      <td>7</td>\n",
       "      <td>73.1</td>\n",
       "      <td>9022 Surrey Road, Lakeville, MN 55044</td>\n",
       "    </tr>\n",
       "    <tr>\n",
       "      <td>1735</td>\n",
       "      <td>Xenos</td>\n",
       "      <td>Workman</td>\n",
       "      <td>male</td>\n",
       "      <td>14</td>\n",
       "      <td>1</td>\n",
       "      <td>10</td>\n",
       "      <td>85.5</td>\n",
       "      <td>240 Windsor Lane, Lynchburg, VA 24502</td>\n",
       "    </tr>\n",
       "    <tr>\n",
       "      <td>85</td>\n",
       "      <td>Porter</td>\n",
       "      <td>Ware</td>\n",
       "      <td>male</td>\n",
       "      <td>14</td>\n",
       "      <td>1</td>\n",
       "      <td>16</td>\n",
       "      <td>90.4</td>\n",
       "      <td>52 Shirley Drive, Merrick, NY 11566</td>\n",
       "    </tr>\n",
       "    <tr>\n",
       "      <td>...</td>\n",
       "      <td>...</td>\n",
       "      <td>...</td>\n",
       "      <td>...</td>\n",
       "      <td>...</td>\n",
       "      <td>...</td>\n",
       "      <td>...</td>\n",
       "      <td>...</td>\n",
       "      <td>...</td>\n",
       "    </tr>\n",
       "    <tr>\n",
       "      <td>992</td>\n",
       "      <td>Iona</td>\n",
       "      <td>Jones</td>\n",
       "      <td>female</td>\n",
       "      <td>19</td>\n",
       "      <td>5</td>\n",
       "      <td>6</td>\n",
       "      <td>79.2</td>\n",
       "      <td>69 Green Ave., Orchard Park, NY 14127</td>\n",
       "    </tr>\n",
       "    <tr>\n",
       "      <td>918</td>\n",
       "      <td>Tamekah</td>\n",
       "      <td>Skinner</td>\n",
       "      <td>female</td>\n",
       "      <td>17</td>\n",
       "      <td>4</td>\n",
       "      <td>11</td>\n",
       "      <td>85.4</td>\n",
       "      <td>2 E. Creekside Ave., Endicott, NY 13760</td>\n",
       "    </tr>\n",
       "    <tr>\n",
       "      <td>1479</td>\n",
       "      <td>Lysandra</td>\n",
       "      <td>Buckner</td>\n",
       "      <td>female</td>\n",
       "      <td>18</td>\n",
       "      <td>3</td>\n",
       "      <td>14</td>\n",
       "      <td>81.3</td>\n",
       "      <td>14 Bay Meadows Drive, Jackson Heights, NY 11372</td>\n",
       "    </tr>\n",
       "    <tr>\n",
       "      <td>1625</td>\n",
       "      <td>Avye</td>\n",
       "      <td>Mccray</td>\n",
       "      <td>female</td>\n",
       "      <td>17</td>\n",
       "      <td>3</td>\n",
       "      <td>8</td>\n",
       "      <td>84.4</td>\n",
       "      <td>25 West Brandywine Street, Brentwood, NY 11717</td>\n",
       "    </tr>\n",
       "    <tr>\n",
       "      <td>333</td>\n",
       "      <td>Hammett</td>\n",
       "      <td>Rios</td>\n",
       "      <td>male</td>\n",
       "      <td>17</td>\n",
       "      <td>1</td>\n",
       "      <td>7</td>\n",
       "      <td>78.8</td>\n",
       "      <td>76 53rd Street, Reynoldsburg, OH 43068</td>\n",
       "    </tr>\n",
       "  </tbody>\n",
       "</table>\n",
       "<p>500 rows × 8 columns</p>\n",
       "</div>"
      ],
      "text/plain": [
       "         fname     lname  gender  age  exercise  hours  grade  \\\n",
       "139    Gregory  Lawrence    male   19         3     14   86.8   \n",
       "530     Robert      Bass    male   16         4      9   73.8   \n",
       "352      Ciara    Valdez  female   19         4      7   73.1   \n",
       "1735     Xenos   Workman    male   14         1     10   85.5   \n",
       "85      Porter      Ware    male   14         1     16   90.4   \n",
       "...        ...       ...     ...  ...       ...    ...    ...   \n",
       "992       Iona     Jones  female   19         5      6   79.2   \n",
       "918    Tamekah   Skinner  female   17         4     11   85.4   \n",
       "1479  Lysandra   Buckner  female   18         3     14   81.3   \n",
       "1625      Avye    Mccray  female   17         3      8   84.4   \n",
       "333    Hammett      Rios    male   17         1      7   78.8   \n",
       "\n",
       "                                              address  \n",
       "139        6 North Bohemia Dr., Stockbridge, GA 30281  \n",
       "530        21 S. Somerset Street, San Diego, CA 92111  \n",
       "352             9022 Surrey Road, Lakeville, MN 55044  \n",
       "1735            240 Windsor Lane, Lynchburg, VA 24502  \n",
       "85                52 Shirley Drive, Merrick, NY 11566  \n",
       "...                                               ...  \n",
       "992             69 Green Ave., Orchard Park, NY 14127  \n",
       "918           2 E. Creekside Ave., Endicott, NY 13760  \n",
       "1479  14 Bay Meadows Drive, Jackson Heights, NY 11372  \n",
       "1625   25 West Brandywine Street, Brentwood, NY 11717  \n",
       "333            76 53rd Street, Reynoldsburg, OH 43068  \n",
       "\n",
       "[500 rows x 8 columns]"
      ]
     },
     "execution_count": 32,
     "metadata": {},
     "output_type": "execute_result"
    }
   ],
   "source": [
    "import pandas as pd\n",
    "import numpy as np\n",
    "Location = \"datasets/gradedata.csv\"\n",
    "df = pd.read_csv(Location)\n",
    "print(df.tail())\n",
    "df.take(np.random.permutation(len(df))[:500])"
   ]
  },
  {
   "cell_type": "markdown",
   "metadata": {},
   "source": [
    "### Q2 creating a dataframe and computing summary statistics using the dataset in Listing 4-6"
   ]
  },
  {
   "cell_type": "code",
   "execution_count": 33,
   "metadata": {},
   "outputs": [
    {
     "name": "stdout",
     "output_type": "stream",
     "text": [
      "      Name  Grade  BS  MS  PhD\n",
      "0      Bob     76   1   2    0\n",
      "1  Jessica     95   1   1    1\n",
      "2     Mary     77   0   0    0\n",
      "3     John     78   0   0    0\n",
      "4      Mel     99   1   0    0\n",
      "\n",
      "           Grade        BS        MS       PhD\n",
      "count   5.000000  5.000000  5.000000  5.000000\n",
      "mean   85.000000  0.600000  0.600000  0.200000\n",
      "std    11.067972  0.547723  0.894427  0.447214\n",
      "min    76.000000  0.000000  0.000000  0.000000\n",
      "25%    77.000000  0.000000  0.000000  0.000000\n",
      "50%    78.000000  1.000000  0.000000  0.000000\n",
      "75%    95.000000  1.000000  1.000000  0.000000\n",
      "max    99.000000  1.000000  2.000000  1.000000\n",
      "\n",
      "Grade    122.5\n",
      "BS         0.3\n",
      "MS         0.8\n",
      "PhD        0.2\n",
      "dtype: float64\n"
     ]
    }
   ],
   "source": [
    "names = ['Bob','Jessica','Mary','John','Mel']\n",
    "grades = [76,95,77,78,99]\n",
    "bsdegrees = [1,1,0,0,1]\n",
    "msdegrees = [2,1,0,0,0]\n",
    "phddegrees = [0,1,0,0,0]\n",
    "GradeList = zip(names,grades,bsdegrees,msdegrees,phddegrees)\n",
    "df = pd.DataFrame(data=GradeList,\n",
    "columns=['Name','Grade','BS','MS','PhD'])\n",
    "print(df)\n",
    "print(\"\")\n",
    "print(df.describe())\n",
    "print(\"\")\n",
    "print(df.var())"
   ]
  },
  {
   "cell_type": "markdown",
   "metadata": {},
   "source": [
    "## Assignment 6"
   ]
  },
  {
   "cell_type": "markdown",
   "metadata": {},
   "source": [
    "### Q1 Can you sort the dataframe to order it by name, age, and then grade?"
   ]
  },
  {
   "cell_type": "code",
   "execution_count": 34,
   "metadata": {},
   "outputs": [
    {
     "name": "stdout",
     "output_type": "stream",
     "text": [
      "     fname     lname  gender  age  exercise  hours  grade  \\\n",
      "0   Marcia      Pugh  female   17         3     10   82.4   \n",
      "1   Kadeem  Morrison    male   18         4      4   78.2   \n",
      "2     Nash    Powell    male   18         5      9   79.3   \n",
      "3  Noelani    Wagner  female   14         2      7   83.2   \n",
      "4  Noelani    Cherry  female   18         4     15   87.4   \n",
      "\n",
      "                                    address  \n",
      "0   9253 Richardson Road, Matawan, NJ 07747  \n",
      "1          33 Spring Dr., Taunton, MA 02780  \n",
      "2          41 Hill Avenue, Mentor, OH 44060  \n",
      "3        8839 Marshall St., Miami, FL 33125  \n",
      "4  8304 Charles Rd., Lewis Center, OH 43035  \n",
      "\n"
     ]
    },
    {
     "data": {
      "text/html": [
       "<div>\n",
       "<style scoped>\n",
       "    .dataframe tbody tr th:only-of-type {\n",
       "        vertical-align: middle;\n",
       "    }\n",
       "\n",
       "    .dataframe tbody tr th {\n",
       "        vertical-align: top;\n",
       "    }\n",
       "\n",
       "    .dataframe thead th {\n",
       "        text-align: right;\n",
       "    }\n",
       "</style>\n",
       "<table border=\"1\" class=\"dataframe\">\n",
       "  <thead>\n",
       "    <tr style=\"text-align: right;\">\n",
       "      <th></th>\n",
       "      <th>fname</th>\n",
       "      <th>lname</th>\n",
       "      <th>gender</th>\n",
       "      <th>age</th>\n",
       "      <th>exercise</th>\n",
       "      <th>hours</th>\n",
       "      <th>grade</th>\n",
       "      <th>address</th>\n",
       "    </tr>\n",
       "  </thead>\n",
       "  <tbody>\n",
       "    <tr>\n",
       "      <td>1439</td>\n",
       "      <td>Levi</td>\n",
       "      <td>Acevedo</td>\n",
       "      <td>male</td>\n",
       "      <td>14</td>\n",
       "      <td>2</td>\n",
       "      <td>6</td>\n",
       "      <td>63.0</td>\n",
       "      <td>87 Cooper Ave., Westland, MI 48185</td>\n",
       "    </tr>\n",
       "    <tr>\n",
       "      <td>1770</td>\n",
       "      <td>Leandra</td>\n",
       "      <td>Acevedo</td>\n",
       "      <td>female</td>\n",
       "      <td>14</td>\n",
       "      <td>1</td>\n",
       "      <td>15</td>\n",
       "      <td>94.4</td>\n",
       "      <td>51 Central Drive, South Windsor, CT 06074</td>\n",
       "    </tr>\n",
       "    <tr>\n",
       "      <td>762</td>\n",
       "      <td>Rhiannon</td>\n",
       "      <td>Acevedo</td>\n",
       "      <td>female</td>\n",
       "      <td>15</td>\n",
       "      <td>3</td>\n",
       "      <td>10</td>\n",
       "      <td>72.7</td>\n",
       "      <td>451 Pendergast Street, Bartlett, IL 60103</td>\n",
       "    </tr>\n",
       "    <tr>\n",
       "      <td>819</td>\n",
       "      <td>Athena</td>\n",
       "      <td>Acevedo</td>\n",
       "      <td>female</td>\n",
       "      <td>15</td>\n",
       "      <td>4</td>\n",
       "      <td>12</td>\n",
       "      <td>90.0</td>\n",
       "      <td>8392 Euclid Ave., Miami, FL 33125</td>\n",
       "    </tr>\n",
       "    <tr>\n",
       "      <td>1458</td>\n",
       "      <td>Cedric</td>\n",
       "      <td>Acevedo</td>\n",
       "      <td>male</td>\n",
       "      <td>19</td>\n",
       "      <td>5</td>\n",
       "      <td>14</td>\n",
       "      <td>98.8</td>\n",
       "      <td>50 Vine Lane, Derby, KS 67037</td>\n",
       "    </tr>\n",
       "  </tbody>\n",
       "</table>\n",
       "</div>"
      ],
      "text/plain": [
       "         fname    lname  gender  age  exercise  hours  grade  \\\n",
       "1439      Levi  Acevedo    male   14         2      6   63.0   \n",
       "1770   Leandra  Acevedo  female   14         1     15   94.4   \n",
       "762   Rhiannon  Acevedo  female   15         3     10   72.7   \n",
       "819     Athena  Acevedo  female   15         4     12   90.0   \n",
       "1458    Cedric  Acevedo    male   19         5     14   98.8   \n",
       "\n",
       "                                        address  \n",
       "1439         87 Cooper Ave., Westland, MI 48185  \n",
       "1770  51 Central Drive, South Windsor, CT 06074  \n",
       "762   451 Pendergast Street, Bartlett, IL 60103  \n",
       "819           8392 Euclid Ave., Miami, FL 33125  \n",
       "1458              50 Vine Lane, Derby, KS 67037  "
      ]
     },
     "execution_count": 34,
     "metadata": {},
     "output_type": "execute_result"
    }
   ],
   "source": [
    "x= \"datasets/gradedata.csv\"\n",
    "df= pd.read_csv(x)\n",
    "print(df.head())\n",
    "df = df.sort_values(by=['lname', 'age','grade'], ascending=[True, True, True])\n",
    "print(\"\")\n",
    "df.head()"
   ]
  },
  {
   "cell_type": "markdown",
   "metadata": {},
   "source": [
    "### Q2 Create a new column where you convert gender to numeric values, like 1 for female and 0 for male. \n",
    "### Can you now add gender to your regression? Does this improve your R-squared?"
   ]
  },
  {
   "cell_type": "code",
   "execution_count": 35,
   "metadata": {},
   "outputs": [
    {
     "name": "stdout",
     "output_type": "stream",
     "text": [
      "     fname     lname  gender  age  exercise  hours  grade  \\\n",
      "0   Marcia      Pugh  female   17         3     10   82.4   \n",
      "1   Kadeem  Morrison    male   18         4      4   78.2   \n",
      "2     Nash    Powell    male   18         5      9   79.3   \n",
      "3  Noelani    Wagner  female   14         2      7   83.2   \n",
      "4  Noelani    Cherry  female   18         4     15   87.4   \n",
      "\n",
      "                                    address  \n",
      "0   9253 Richardson Road, Matawan, NJ 07747  \n",
      "1          33 Spring Dr., Taunton, MA 02780  \n",
      "2          41 Hill Avenue, Mentor, OH 44060  \n",
      "3        8839 Marshall St., Miami, FL 33125  \n",
      "4  8304 Charles Rd., Lewis Center, OH 43035  \n",
      "\n"
     ]
    },
    {
     "data": {
      "text/html": [
       "<div>\n",
       "<style scoped>\n",
       "    .dataframe tbody tr th:only-of-type {\n",
       "        vertical-align: middle;\n",
       "    }\n",
       "\n",
       "    .dataframe tbody tr th {\n",
       "        vertical-align: top;\n",
       "    }\n",
       "\n",
       "    .dataframe thead th {\n",
       "        text-align: right;\n",
       "    }\n",
       "</style>\n",
       "<table border=\"1\" class=\"dataframe\">\n",
       "  <thead>\n",
       "    <tr style=\"text-align: right;\">\n",
       "      <th></th>\n",
       "      <th>fname</th>\n",
       "      <th>lname</th>\n",
       "      <th>gender</th>\n",
       "      <th>age</th>\n",
       "      <th>exercise</th>\n",
       "      <th>hours</th>\n",
       "      <th>grade</th>\n",
       "      <th>address</th>\n",
       "      <th>isfemale</th>\n",
       "    </tr>\n",
       "  </thead>\n",
       "  <tbody>\n",
       "    <tr>\n",
       "      <td>0</td>\n",
       "      <td>Marcia</td>\n",
       "      <td>Pugh</td>\n",
       "      <td>female</td>\n",
       "      <td>17</td>\n",
       "      <td>3</td>\n",
       "      <td>10</td>\n",
       "      <td>82.4</td>\n",
       "      <td>9253 Richardson Road, Matawan, NJ 07747</td>\n",
       "      <td>1</td>\n",
       "    </tr>\n",
       "    <tr>\n",
       "      <td>1</td>\n",
       "      <td>Kadeem</td>\n",
       "      <td>Morrison</td>\n",
       "      <td>male</td>\n",
       "      <td>18</td>\n",
       "      <td>4</td>\n",
       "      <td>4</td>\n",
       "      <td>78.2</td>\n",
       "      <td>33 Spring Dr., Taunton, MA 02780</td>\n",
       "      <td>0</td>\n",
       "    </tr>\n",
       "    <tr>\n",
       "      <td>2</td>\n",
       "      <td>Nash</td>\n",
       "      <td>Powell</td>\n",
       "      <td>male</td>\n",
       "      <td>18</td>\n",
       "      <td>5</td>\n",
       "      <td>9</td>\n",
       "      <td>79.3</td>\n",
       "      <td>41 Hill Avenue, Mentor, OH 44060</td>\n",
       "      <td>0</td>\n",
       "    </tr>\n",
       "    <tr>\n",
       "      <td>3</td>\n",
       "      <td>Noelani</td>\n",
       "      <td>Wagner</td>\n",
       "      <td>female</td>\n",
       "      <td>14</td>\n",
       "      <td>2</td>\n",
       "      <td>7</td>\n",
       "      <td>83.2</td>\n",
       "      <td>8839 Marshall St., Miami, FL 33125</td>\n",
       "      <td>1</td>\n",
       "    </tr>\n",
       "    <tr>\n",
       "      <td>4</td>\n",
       "      <td>Noelani</td>\n",
       "      <td>Cherry</td>\n",
       "      <td>female</td>\n",
       "      <td>18</td>\n",
       "      <td>4</td>\n",
       "      <td>15</td>\n",
       "      <td>87.4</td>\n",
       "      <td>8304 Charles Rd., Lewis Center, OH 43035</td>\n",
       "      <td>1</td>\n",
       "    </tr>\n",
       "  </tbody>\n",
       "</table>\n",
       "</div>"
      ],
      "text/plain": [
       "     fname     lname  gender  age  exercise  hours  grade  \\\n",
       "0   Marcia      Pugh  female   17         3     10   82.4   \n",
       "1   Kadeem  Morrison    male   18         4      4   78.2   \n",
       "2     Nash    Powell    male   18         5      9   79.3   \n",
       "3  Noelani    Wagner  female   14         2      7   83.2   \n",
       "4  Noelani    Cherry  female   18         4     15   87.4   \n",
       "\n",
       "                                    address  isfemale  \n",
       "0   9253 Richardson Road, Matawan, NJ 07747         1  \n",
       "1          33 Spring Dr., Taunton, MA 02780         0  \n",
       "2          41 Hill Avenue, Mentor, OH 44060         0  \n",
       "3        8839 Marshall St., Miami, FL 33125         1  \n",
       "4  8304 Charles Rd., Lewis Center, OH 43035         1  "
      ]
     },
     "execution_count": 35,
     "metadata": {},
     "output_type": "execute_result"
    }
   ],
   "source": [
    "Location = \"datasets/gradedata.csv\"\n",
    "df = pd.read_csv(Location)\n",
    "print(df.head())\n",
    "print(\"\")\n",
    "df[\"isfemale\"]= [1 if (x ==\"female\") else 0 for x in df[\"gender\"]]\n",
    "df.head()"
   ]
  },
  {
   "cell_type": "markdown",
   "metadata": {},
   "source": [
    "#### Without gender"
   ]
  },
  {
   "cell_type": "code",
   "execution_count": 36,
   "metadata": {},
   "outputs": [
    {
     "data": {
      "text/html": [
       "<table class=\"simpletable\">\n",
       "<caption>OLS Regression Results</caption>\n",
       "<tr>\n",
       "  <th>Dep. Variable:</th>          <td>grade</td>      <th>  R-squared:         </th> <td>   0.664</td> \n",
       "</tr>\n",
       "<tr>\n",
       "  <th>Model:</th>                   <td>OLS</td>       <th>  Adj. R-squared:    </th> <td>   0.664</td> \n",
       "</tr>\n",
       "<tr>\n",
       "  <th>Method:</th>             <td>Least Squares</td>  <th>  F-statistic:       </th> <td>   1315.</td> \n",
       "</tr>\n",
       "<tr>\n",
       "  <th>Date:</th>             <td>Thu, 09 Apr 2020</td> <th>  Prob (F-statistic):</th>  <td>  0.00</td>  \n",
       "</tr>\n",
       "<tr>\n",
       "  <th>Time:</th>                 <td>22:22:58</td>     <th>  Log-Likelihood:    </th> <td> -6300.7</td> \n",
       "</tr>\n",
       "<tr>\n",
       "  <th>No. Observations:</th>      <td>  2000</td>      <th>  AIC:               </th> <td>1.261e+04</td>\n",
       "</tr>\n",
       "<tr>\n",
       "  <th>Df Residuals:</th>          <td>  1996</td>      <th>  BIC:               </th> <td>1.263e+04</td>\n",
       "</tr>\n",
       "<tr>\n",
       "  <th>Df Model:</th>              <td>     3</td>      <th>                     </th>     <td> </td>    \n",
       "</tr>\n",
       "<tr>\n",
       "  <th>Covariance Type:</th>      <td>nonrobust</td>    <th>                     </th>     <td> </td>    \n",
       "</tr>\n",
       "</table>\n",
       "<table class=\"simpletable\">\n",
       "<tr>\n",
       "      <td></td>         <th>coef</th>     <th>std err</th>      <th>t</th>      <th>P>|t|</th>  <th>[0.025</th>    <th>0.975]</th>  \n",
       "</tr>\n",
       "<tr>\n",
       "  <th>Intercept</th> <td>   57.8704</td> <td>    1.321</td> <td>   43.804</td> <td> 0.000</td> <td>   55.279</td> <td>   60.461</td>\n",
       "</tr>\n",
       "<tr>\n",
       "  <th>age</th>       <td>    0.0397</td> <td>    0.075</td> <td>    0.532</td> <td> 0.595</td> <td>   -0.107</td> <td>    0.186</td>\n",
       "</tr>\n",
       "<tr>\n",
       "  <th>exercise</th>  <td>    0.9893</td> <td>    0.089</td> <td>   11.131</td> <td> 0.000</td> <td>    0.815</td> <td>    1.164</td>\n",
       "</tr>\n",
       "<tr>\n",
       "  <th>hours</th>     <td>    1.9165</td> <td>    0.031</td> <td>   61.564</td> <td> 0.000</td> <td>    1.855</td> <td>    1.978</td>\n",
       "</tr>\n",
       "</table>\n",
       "<table class=\"simpletable\">\n",
       "<tr>\n",
       "  <th>Omnibus:</th>       <td>321.187</td> <th>  Durbin-Watson:     </th> <td>   2.047</td>\n",
       "</tr>\n",
       "<tr>\n",
       "  <th>Prob(Omnibus):</th> <td> 0.000</td>  <th>  Jarque-Bera (JB):  </th> <td>2196.187</td>\n",
       "</tr>\n",
       "<tr>\n",
       "  <th>Skew:</th>          <td>-0.567</td>  <th>  Prob(JB):          </th> <td>    0.00</td>\n",
       "</tr>\n",
       "<tr>\n",
       "  <th>Kurtosis:</th>      <td> 8.007</td>  <th>  Cond. No.          </th> <td>    213.</td>\n",
       "</tr>\n",
       "</table><br/><br/>Warnings:<br/>[1] Standard Errors assume that the covariance matrix of the errors is correctly specified."
      ],
      "text/plain": [
       "<class 'statsmodels.iolib.summary.Summary'>\n",
       "\"\"\"\n",
       "                            OLS Regression Results                            \n",
       "==============================================================================\n",
       "Dep. Variable:                  grade   R-squared:                       0.664\n",
       "Model:                            OLS   Adj. R-squared:                  0.664\n",
       "Method:                 Least Squares   F-statistic:                     1315.\n",
       "Date:                Thu, 09 Apr 2020   Prob (F-statistic):               0.00\n",
       "Time:                        22:22:58   Log-Likelihood:                -6300.7\n",
       "No. Observations:                2000   AIC:                         1.261e+04\n",
       "Df Residuals:                    1996   BIC:                         1.263e+04\n",
       "Df Model:                           3                                         \n",
       "Covariance Type:            nonrobust                                         \n",
       "==============================================================================\n",
       "                 coef    std err          t      P>|t|      [0.025      0.975]\n",
       "------------------------------------------------------------------------------\n",
       "Intercept     57.8704      1.321     43.804      0.000      55.279      60.461\n",
       "age            0.0397      0.075      0.532      0.595      -0.107       0.186\n",
       "exercise       0.9893      0.089     11.131      0.000       0.815       1.164\n",
       "hours          1.9165      0.031     61.564      0.000       1.855       1.978\n",
       "==============================================================================\n",
       "Omnibus:                      321.187   Durbin-Watson:                   2.047\n",
       "Prob(Omnibus):                  0.000   Jarque-Bera (JB):             2196.187\n",
       "Skew:                          -0.567   Prob(JB):                         0.00\n",
       "Kurtosis:                       8.007   Cond. No.                         213.\n",
       "==============================================================================\n",
       "\n",
       "Warnings:\n",
       "[1] Standard Errors assume that the covariance matrix of the errors is correctly specified.\n",
       "\"\"\""
      ]
     },
     "execution_count": 36,
     "metadata": {},
     "output_type": "execute_result"
    }
   ],
   "source": [
    "import statsmodels.formula.api as sm\n",
    "result = sm.ols(formula='grade ~ age + exercise + hours',data=df).fit()\n",
    "result.summary()"
   ]
  },
  {
   "cell_type": "markdown",
   "metadata": {},
   "source": [
    "#### With gender"
   ]
  },
  {
   "cell_type": "code",
   "execution_count": 37,
   "metadata": {},
   "outputs": [
    {
     "data": {
      "text/html": [
       "<table class=\"simpletable\">\n",
       "<caption>OLS Regression Results</caption>\n",
       "<tr>\n",
       "  <th>Dep. Variable:</th>          <td>grade</td>      <th>  R-squared:         </th> <td>   0.665</td> \n",
       "</tr>\n",
       "<tr>\n",
       "  <th>Model:</th>                   <td>OLS</td>       <th>  Adj. R-squared:    </th> <td>   0.664</td> \n",
       "</tr>\n",
       "<tr>\n",
       "  <th>Method:</th>             <td>Least Squares</td>  <th>  F-statistic:       </th> <td>   988.1</td> \n",
       "</tr>\n",
       "<tr>\n",
       "  <th>Date:</th>             <td>Thu, 09 Apr 2020</td> <th>  Prob (F-statistic):</th>  <td>  0.00</td>  \n",
       "</tr>\n",
       "<tr>\n",
       "  <th>Time:</th>                 <td>22:22:59</td>     <th>  Log-Likelihood:    </th> <td> -6299.1</td> \n",
       "</tr>\n",
       "<tr>\n",
       "  <th>No. Observations:</th>      <td>  2000</td>      <th>  AIC:               </th> <td>1.261e+04</td>\n",
       "</tr>\n",
       "<tr>\n",
       "  <th>Df Residuals:</th>          <td>  1995</td>      <th>  BIC:               </th> <td>1.264e+04</td>\n",
       "</tr>\n",
       "<tr>\n",
       "  <th>Df Model:</th>              <td>     4</td>      <th>                     </th>     <td> </td>    \n",
       "</tr>\n",
       "<tr>\n",
       "  <th>Covariance Type:</th>      <td>nonrobust</td>    <th>                     </th>     <td> </td>    \n",
       "</tr>\n",
       "</table>\n",
       "<table class=\"simpletable\">\n",
       "<tr>\n",
       "      <td></td>         <th>coef</th>     <th>std err</th>      <th>t</th>      <th>P>|t|</th>  <th>[0.025</th>    <th>0.975]</th>  \n",
       "</tr>\n",
       "<tr>\n",
       "  <th>Intercept</th> <td>   57.6390</td> <td>    1.327</td> <td>   43.441</td> <td> 0.000</td> <td>   55.037</td> <td>   60.241</td>\n",
       "</tr>\n",
       "<tr>\n",
       "  <th>age</th>       <td>    0.0405</td> <td>    0.075</td> <td>    0.543</td> <td> 0.587</td> <td>   -0.106</td> <td>    0.187</td>\n",
       "</tr>\n",
       "<tr>\n",
       "  <th>exercise</th>  <td>    0.9841</td> <td>    0.089</td> <td>   11.073</td> <td> 0.000</td> <td>    0.810</td> <td>    1.158</td>\n",
       "</tr>\n",
       "<tr>\n",
       "  <th>hours</th>     <td>    1.9173</td> <td>    0.031</td> <td>   61.617</td> <td> 0.000</td> <td>    1.856</td> <td>    1.978</td>\n",
       "</tr>\n",
       "<tr>\n",
       "  <th>isfemale</th>  <td>    0.4485</td> <td>    0.253</td> <td>    1.773</td> <td> 0.076</td> <td>   -0.047</td> <td>    0.944</td>\n",
       "</tr>\n",
       "</table>\n",
       "<table class=\"simpletable\">\n",
       "<tr>\n",
       "  <th>Omnibus:</th>       <td>325.522</td> <th>  Durbin-Watson:     </th> <td>   2.048</td>\n",
       "</tr>\n",
       "<tr>\n",
       "  <th>Prob(Omnibus):</th> <td> 0.000</td>  <th>  Jarque-Bera (JB):  </th> <td>2284.723</td>\n",
       "</tr>\n",
       "<tr>\n",
       "  <th>Skew:</th>          <td>-0.569</td>  <th>  Prob(JB):          </th> <td>    0.00</td>\n",
       "</tr>\n",
       "<tr>\n",
       "  <th>Kurtosis:</th>      <td> 8.111</td>  <th>  Cond. No.          </th> <td>    214.</td>\n",
       "</tr>\n",
       "</table><br/><br/>Warnings:<br/>[1] Standard Errors assume that the covariance matrix of the errors is correctly specified."
      ],
      "text/plain": [
       "<class 'statsmodels.iolib.summary.Summary'>\n",
       "\"\"\"\n",
       "                            OLS Regression Results                            \n",
       "==============================================================================\n",
       "Dep. Variable:                  grade   R-squared:                       0.665\n",
       "Model:                            OLS   Adj. R-squared:                  0.664\n",
       "Method:                 Least Squares   F-statistic:                     988.1\n",
       "Date:                Thu, 09 Apr 2020   Prob (F-statistic):               0.00\n",
       "Time:                        22:22:59   Log-Likelihood:                -6299.1\n",
       "No. Observations:                2000   AIC:                         1.261e+04\n",
       "Df Residuals:                    1995   BIC:                         1.264e+04\n",
       "Df Model:                           4                                         \n",
       "Covariance Type:            nonrobust                                         \n",
       "==============================================================================\n",
       "                 coef    std err          t      P>|t|      [0.025      0.975]\n",
       "------------------------------------------------------------------------------\n",
       "Intercept     57.6390      1.327     43.441      0.000      55.037      60.241\n",
       "age            0.0405      0.075      0.543      0.587      -0.106       0.187\n",
       "exercise       0.9841      0.089     11.073      0.000       0.810       1.158\n",
       "hours          1.9173      0.031     61.617      0.000       1.856       1.978\n",
       "isfemale       0.4485      0.253      1.773      0.076      -0.047       0.944\n",
       "==============================================================================\n",
       "Omnibus:                      325.522   Durbin-Watson:                   2.048\n",
       "Prob(Omnibus):                  0.000   Jarque-Bera (JB):             2284.723\n",
       "Skew:                          -0.569   Prob(JB):                         0.00\n",
       "Kurtosis:                       8.111   Cond. No.                         214.\n",
       "==============================================================================\n",
       "\n",
       "Warnings:\n",
       "[1] Standard Errors assume that the covariance matrix of the errors is correctly specified.\n",
       "\"\"\""
      ]
     },
     "execution_count": 37,
     "metadata": {},
     "output_type": "execute_result"
    }
   ],
   "source": [
    "result = sm.ols(formula='grade ~ age + exercise + hours + isfemale',data=df).fit()\n",
    "result.summary()"
   ]
  },
  {
   "cell_type": "markdown",
   "metadata": {},
   "source": [
    "#### This changes R squared from 0.664 to 0.665 which means an improvement of 0.1%"
   ]
  },
  {
   "cell_type": "markdown",
   "metadata": {},
   "source": [
    "## Assignment 7"
   ]
  },
  {
   "cell_type": "markdown",
   "metadata": {},
   "source": [
    "### Q1 Take the same dataset we used in this example and add an annotation to Bob's 76 that says “Wow!”"
   ]
  },
  {
   "cell_type": "code",
   "execution_count": 38,
   "metadata": {},
   "outputs": [
    {
     "data": {
      "text/plain": [
       "<matplotlib.axes._subplots.AxesSubplot at 0x281cf598ec8>"
      ]
     },
     "execution_count": 38,
     "metadata": {},
     "output_type": "execute_result"
    },
    {
     "data": {
      "image/png": "[encoded data removed]",
      "text/plain": [
       "<Figure size 432x288 with 1 Axes>"
      ]
     },
     "metadata": {
      "needs_background": "light"
     },
     "output_type": "display_data"
    }
   ],
   "source": [
    "import matplotlib.pyplot as plt\n",
    "names = ['Bob','Jessica','Mary','John','Mel']\n",
    "grades = [76,83,77,78,95]\n",
    "GradeList = zip(names,grades)\n",
    "df = pd.DataFrame(data = GradeList,\n",
    "columns=['Names', 'Grades'])\n",
    "%matplotlib inline\n",
    "df.plot()"
   ]
  },
  {
   "cell_type": "code",
   "execution_count": 39,
   "metadata": {},
   "outputs": [
    {
     "data": {
      "text/plain": [
       "Text(6, -150, 'Wow')"
      ]
     },
     "execution_count": 39,
     "metadata": {},
     "output_type": "execute_result"
    },
    {
     "data": {
      "image/png": "[encoded data removed]",
      "text/plain": [
       "<Figure size 432x288 with 1 Axes>"
      ]
     },
     "metadata": {
      "needs_background": "light"
     },
     "output_type": "display_data"
    }
   ],
   "source": [
    "df.plot()\n",
    "displayText = \"Wow\"\n",
    "xloc = 0\n",
    "yloc = 76\n",
    "xtext = 6\n",
    "ytext = -150\n",
    "plt.annotate(displayText,\n",
    " xy=(xloc, yloc),\n",
    " arrowprops=dict(facecolor='black',\n",
    " shrink=0.05), \n",
    " xytext=(xtext,ytext),\n",
    " xycoords=('axes fraction', 'data'),\n",
    " textcoords='offset points')\n"
   ]
  },
  {
   "cell_type": "markdown",
   "metadata": {},
   "source": [
    "### Q2 Can you change the code to create a bar plot where the status is the label?"
   ]
  },
  {
   "cell_type": "code",
   "execution_count": 40,
   "metadata": {},
   "outputs": [
    {
     "data": {
      "text/plain": [
       "<matplotlib.axes._subplots.AxesSubplot at 0x281d038bfc8>"
      ]
     },
     "execution_count": 40,
     "metadata": {},
     "output_type": "execute_result"
    },
    {
     "data": {
      "image/png": "[encoded data removed]",
      "text/plain": [
       "<Figure size 432x288 with 1 Axes>"
      ]
     },
     "metadata": {
      "needs_background": "light"
     },
     "output_type": "display_data"
    }
   ],
   "source": [
    "names = ['Bob','Jessica','Mary','John','Mel']\n",
    "status = ['Senior','Freshman','Sophomore','Senior','Junior']\n",
    "grades = [76,95,77,78,99]\n",
    "GradeList = zip(names,grades,status)\n",
    "df = pd.DataFrame(data = GradeList,\n",
    "columns=['Names', 'Grades','status'])\n",
    "%matplotlib inline\n",
    "df.plot(kind='bar')"
   ]
  },
  {
   "cell_type": "code",
   "execution_count": 41,
   "metadata": {},
   "outputs": [
    {
     "data": {
      "text/plain": [
       "<matplotlib.axes._subplots.AxesSubplot at 0x281d04050c8>"
      ]
     },
     "execution_count": 41,
     "metadata": {},
     "output_type": "execute_result"
    },
    {
     "data": {
      "image/png": "[encoded data removed]",
      "text/plain": [
       "<Figure size 432x288 with 1 Axes>"
      ]
     },
     "metadata": {
      "needs_background": "light"
     },
     "output_type": "display_data"
    }
   ],
   "source": [
    "df_2 = df.set_index(df['status'])\n",
    "df_2.plot(kind=\"bar\")"
   ]
  },
  {
   "cell_type": "markdown",
   "metadata": {},
   "source": [
    "## Assignment 8"
   ]
  },
  {
   "cell_type": "markdown",
   "metadata": {},
   "source": [
    "### Q1 Can you create an age histogram categorized by gender?"
   ]
  },
  {
   "cell_type": "code",
   "execution_count": 42,
   "metadata": {},
   "outputs": [
    {
     "name": "stdout",
     "output_type": "stream",
     "text": [
      "     fname     lname  gender  age  exercise  hours  grade  \\\n",
      "0   Marcia      Pugh  female   17         3     10   82.4   \n",
      "1   Kadeem  Morrison    male   18         4      4   78.2   \n",
      "2     Nash    Powell    male   18         5      9   79.3   \n",
      "3  Noelani    Wagner  female   14         2      7   83.2   \n",
      "4  Noelani    Cherry  female   18         4     15   87.4   \n",
      "\n",
      "                                    address  \n",
      "0   9253 Richardson Road, Matawan, NJ 07747  \n",
      "1          33 Spring Dr., Taunton, MA 02780  \n",
      "2          41 Hill Avenue, Mentor, OH 44060  \n",
      "3        8839 Marshall St., Miami, FL 33125  \n",
      "4  8304 Charles Rd., Lewis Center, OH 43035  \n",
      "\n"
     ]
    },
    {
     "data": {
      "text/plain": [
       "array([<matplotlib.axes._subplots.AxesSubplot object at 0x00000281D1B339C8>,\n",
       "       <matplotlib.axes._subplots.AxesSubplot object at 0x00000281D1B58948>],\n",
       "      dtype=object)"
      ]
     },
     "execution_count": 42,
     "metadata": {},
     "output_type": "execute_result"
    },
    {
     "data": {
      "image/png": "[encoded data removed]",
      "text/plain": [
       "<Figure size 432x288 with 2 Axes>"
      ]
     },
     "metadata": {
      "needs_background": "light"
     },
     "output_type": "display_data"
    }
   ],
   "source": [
    "%matplotlib inline\n",
    "Location = \"datasets/gradedata.csv\"\n",
    "df = pd.read_csv(Location)\n",
    "print(df.head())\n",
    "print(\"\")\n",
    "df.hist(column=\"age\", by=\"gender\")"
   ]
  },
  {
   "cell_type": "markdown",
   "metadata": {},
   "source": [
    "### Q2 What if, instead of highlighting the worst student, we put a spotlight on the best one? Let's rotate the chart and change the settings so we are highlighting John instead of Mel."
   ]
  },
  {
   "cell_type": "code",
   "execution_count": 43,
   "metadata": {},
   "outputs": [
    {
     "name": "stdout",
     "output_type": "stream",
     "text": [
      "     Names  Absences  Detentions  Warnings\n",
      "0      Bob         3           2         2\n",
      "1  Jessica         0           1         1\n",
      "2     Mary         1           0         5\n",
      "3     John         0           0         1\n",
      "4      Mel         8           1         2\n",
      "\n",
      "\n"
     ]
    },
    {
     "data": {
      "image/png": "[encoded data removed]",
      "text/plain": [
       "<Figure size 432x288 with 1 Axes>"
      ]
     },
     "metadata": {},
     "output_type": "display_data"
    }
   ],
   "source": [
    "%matplotlib inline\n",
    "names = ['Bob','Jessica','Mary','John','Mel']\n",
    "absences = [3,0,1,0,8]\n",
    "detentions = [2,1,0,0,1]\n",
    "warnings = [2,1,5,1,2]\n",
    "GradeList = zip(names,absences,detentions,warnings)\n",
    "columns=['Names', 'Absences', 'Detentions','Warnings']\n",
    "df = pd.DataFrame(data = GradeList, columns=columns)\n",
    "print(df.head())\n",
    "print(\"\")\n",
    "print(\"\")\n",
    "df['TotalDemerits'] = df['Absences'] + df['Detentions'] + df['Warnings']\n",
    "plt.pie(df['TotalDemerits'],\n",
    " labels=df['Names'],\n",
    " explode=(0,0,0,0.40,0),\n",
    " startangle=140,\n",
    " autopct='%1.1f%%',)\n",
    "plt.axis('equal')\n",
    "plt.show()"
   ]
  },
  {
   "cell_type": "markdown",
   "metadata": {},
   "source": [
    "### Q3 Create a scatter plot of the hours and grade data in datasets/gradedata.csv. Do you see a pattern in the data?"
   ]
  },
  {
   "cell_type": "code",
   "execution_count": 44,
   "metadata": {},
   "outputs": [
    {
     "name": "stdout",
     "output_type": "stream",
     "text": [
      "     fname     lname  gender  age  exercise  hours  grade  \\\n",
      "0   Marcia      Pugh  female   17         3     10   82.4   \n",
      "1   Kadeem  Morrison    male   18         4      4   78.2   \n",
      "2     Nash    Powell    male   18         5      9   79.3   \n",
      "3  Noelani    Wagner  female   14         2      7   83.2   \n",
      "4  Noelani    Cherry  female   18         4     15   87.4   \n",
      "\n",
      "                                    address  \n",
      "0   9253 Richardson Road, Matawan, NJ 07747  \n",
      "1          33 Spring Dr., Taunton, MA 02780  \n",
      "2          41 Hill Avenue, Mentor, OH 44060  \n",
      "3        8839 Marshall St., Miami, FL 33125  \n",
      "4  8304 Charles Rd., Lewis Center, OH 43035  \n",
      "\n"
     ]
    },
    {
     "data": {
      "text/plain": [
       "<matplotlib.collections.PathCollection at 0x281cff89208>"
      ]
     },
     "execution_count": 44,
     "metadata": {},
     "output_type": "execute_result"
    },
    {
     "data": {
      "image/png": "[encoded data removed]",
      "text/plain": [
       "<Figure size 432x288 with 1 Axes>"
      ]
     },
     "metadata": {
      "needs_background": "light"
     },
     "output_type": "display_data"
    }
   ],
   "source": [
    "%matplotlib inline\n",
    "x= \"datasets/gradedata.csv\"\n",
    "df= pd.read_csv(x)\n",
    "print(df.head())\n",
    "print(\"\")\n",
    "plt.scatter(df.hours, df.grade)\n"
   ]
  },
  {
   "cell_type": "markdown",
   "metadata": {},
   "source": [
    "#### Yes there is visible pattern"
   ]
  }
 ],
 "metadata": {
  "kernelspec": {
   "display_name": "Python 3",
   "language": "python",
   "name": "python3"
  },
  "language_info": {
   "codemirror_mode": {
    "name": "ipython",
    "version": 3
   },
   "file_extension": ".py",
   "mimetype": "text/x-python",
   "name": "python",
   "nbconvert_exporter": "python",
   "pygments_lexer": "ipython3",
   "version": "3.7.4"
  }
 },
 "nbformat": 4,
 "nbformat_minor": 2
}
