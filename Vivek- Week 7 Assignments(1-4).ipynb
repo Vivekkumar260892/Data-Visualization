{
 "cells": [
  {
   "cell_type": "markdown",
   "metadata": {},
   "source": [
    "## Assignment 1"
   ]
  },
  {
   "cell_type": "markdown",
   "metadata": {},
   "source": [
    "### Q1 Pg 7\n",
    "State: Florida"
   ]
  },
  {
   "cell_type": "code",
   "execution_count": 1,
   "metadata": {},
   "outputs": [
    {
     "name": "stdout",
     "output_type": "stream",
     "text": [
      "   GEOID  SUMLEV  STATE  COUNTY  CBSA  CSA  NECTA  CNECTA     NAME    POP100  \\\n",
      "0     12      40     12     NaN   NaN  NaN    NaN     NaN  Florida  18801310   \n",
      "\n",
      "     HU100  POP100.2000  HU100.2000   P001001  P001001.2000  \n",
      "0  8989580     15982378     7302947  18801310      15982378  \n"
     ]
    }
   ],
   "source": [
    "import pandas as pd\n",
    "florida=pd.read_csv('all_040_in_12.P1.csv')\n",
    "print(florida)"
   ]
  },
  {
   "cell_type": "markdown",
   "metadata": {},
   "source": [
    "### Q2 Pg 9\n"
   ]
  },
  {
   "cell_type": "code",
   "execution_count": 3,
   "metadata": {},
   "outputs": [
    {
     "name": "stdout",
     "output_type": "stream",
     "text": [
      "   ID                                        DESCRIPTION\n",
      "0   3  Data not enumerated, tabulated, or otherwise a...\n",
      "1   4  Figure withheld to avoid disclosure pertaining...\n",
      "2   5  Figure not applicable because column heading a...\n",
      "3   6  Figure does not meet publication standards for...\n",
      "4   7  Entry would amount to less than half the unit ...\n"
     ]
    }
   ],
   "source": [
    "df = pd.read_excel(\"Flag_Reference.xls\")\n",
    "print(df.head())"
   ]
  },
  {
   "cell_type": "markdown",
   "metadata": {},
   "source": [
    "## Assignment 2"
   ]
  },
  {
   "cell_type": "markdown",
   "metadata": {},
   "source": [
    "### Q1 pg 13"
   ]
  },
  {
   "cell_type": "code",
   "execution_count": 6,
   "metadata": {},
   "outputs": [
    {
     "name": "stdout",
     "output_type": "stream",
     "text": [
      "   Unnamed: 0 CallingNumber DayOfWeek TimeOfDay  CallDuration  \\\n",
      "0           0  774-823-8593       thu     10:30            20   \n",
      "1           1  432-403-9821       fri     11:24            10   \n",
      "2           2  274-683-6814       tue     15:43            17   \n",
      "3           3  681-402-6913       tue     13:44             2   \n",
      "4           4  242-336-6459       wed     10:50            19   \n",
      "\n",
      "       ReasonForCall AnsweringAgent  \n",
      "0    Product Inquiry        Cameron  \n",
      "1          Complaint        Cameron  \n",
      "2  Technical Support        Kennedy  \n",
      "3  Technical Support           Lisa  \n",
      "4  Technical Support        Kennedy  \n",
      "(129588, 7)\n"
     ]
    }
   ],
   "source": [
    "import numpy as np\n",
    "import glob\n",
    "all_data = pd.DataFrame()\n",
    "for f in glob.glob(\"datasets/weekly_call_data/weekdata*.xlsx\"):\n",
    "    df = pd.read_excel(f)\n",
    "    all_data = all_data.append(df,ignore_index=True)\n",
    "\n",
    "print(all_data.head())\n",
    "print(all_data.shape)"
   ]
  },
  {
   "cell_type": "markdown",
   "metadata": {},
   "source": [
    "### Q2 pg 14\n"
   ]
  },
  {
   "cell_type": "code",
   "execution_count": 7,
   "metadata": {},
   "outputs": [],
   "source": [
    "import pandas as pd\n",
    "from sqlalchemy import create_engine\n",
    "# Connect to sqlite db\n",
    "db_file = r'salesdata.db'\n",
    "engine = create_engine(r\"sqlite:///{}\"\n",
    " .format(db_file))"
   ]
  },
  {
   "cell_type": "code",
   "execution_count": 8,
   "metadata": {},
   "outputs": [
    {
     "data": {
      "text/html": [
       "<div>\n",
       "<style scoped>\n",
       "    .dataframe tbody tr th:only-of-type {\n",
       "        vertical-align: middle;\n",
       "    }\n",
       "\n",
       "    .dataframe tbody tr th {\n",
       "        vertical-align: top;\n",
       "    }\n",
       "\n",
       "    .dataframe thead th {\n",
       "        text-align: right;\n",
       "    }\n",
       "</style>\n",
       "<table border=\"1\" class=\"dataframe\">\n",
       "  <thead>\n",
       "    <tr style=\"text-align: right;\">\n",
       "      <th></th>\n",
       "      <th>name</th>\n",
       "    </tr>\n",
       "  </thead>\n",
       "  <tbody>\n",
       "    <tr>\n",
       "      <td>0</td>\n",
       "      <td>scores</td>\n",
       "    </tr>\n",
       "    <tr>\n",
       "      <td>1</td>\n",
       "      <td>ix_scores_index</td>\n",
       "    </tr>\n",
       "  </tbody>\n",
       "</table>\n",
       "</div>"
      ],
      "text/plain": [
       "              name\n",
       "0           scores\n",
       "1  ix_scores_index"
      ]
     },
     "execution_count": 8,
     "metadata": {},
     "output_type": "execute_result"
    }
   ],
   "source": [
    "sql = 'select name from sqlite_master'\n",
    "name = pd.read_sql(sql, engine)\n",
    "name"
   ]
  },
  {
   "cell_type": "code",
   "execution_count": 14,
   "metadata": {},
   "outputs": [
    {
     "data": {
      "text/html": [
       "<div>\n",
       "<style scoped>\n",
       "    .dataframe tbody tr th:only-of-type {\n",
       "        vertical-align: middle;\n",
       "    }\n",
       "\n",
       "    .dataframe tbody tr th {\n",
       "        vertical-align: top;\n",
       "    }\n",
       "\n",
       "    .dataframe thead th {\n",
       "        text-align: right;\n",
       "    }\n",
       "</style>\n",
       "<table border=\"1\" class=\"dataframe\">\n",
       "  <thead>\n",
       "    <tr style=\"text-align: right;\">\n",
       "      <th></th>\n",
       "      <th>index</th>\n",
       "      <th>Sales Person</th>\n",
       "      <th>Intelligence</th>\n",
       "      <th>Extroversion</th>\n",
       "      <th>$ Sales/Week</th>\n",
       "    </tr>\n",
       "  </thead>\n",
       "  <tbody>\n",
       "    <tr>\n",
       "      <td>0</td>\n",
       "      <td>0</td>\n",
       "      <td>1</td>\n",
       "      <td>89</td>\n",
       "      <td>21</td>\n",
       "      <td>2625</td>\n",
       "    </tr>\n",
       "    <tr>\n",
       "      <td>1</td>\n",
       "      <td>1</td>\n",
       "      <td>2</td>\n",
       "      <td>93</td>\n",
       "      <td>24</td>\n",
       "      <td>2700</td>\n",
       "    </tr>\n",
       "    <tr>\n",
       "      <td>2</td>\n",
       "      <td>2</td>\n",
       "      <td>3</td>\n",
       "      <td>91</td>\n",
       "      <td>21</td>\n",
       "      <td>3100</td>\n",
       "    </tr>\n",
       "    <tr>\n",
       "      <td>3</td>\n",
       "      <td>3</td>\n",
       "      <td>4</td>\n",
       "      <td>122</td>\n",
       "      <td>23</td>\n",
       "      <td>3150</td>\n",
       "    </tr>\n",
       "    <tr>\n",
       "      <td>4</td>\n",
       "      <td>4</td>\n",
       "      <td>5</td>\n",
       "      <td>115</td>\n",
       "      <td>27</td>\n",
       "      <td>3175</td>\n",
       "    </tr>\n",
       "    <tr>\n",
       "      <td>5</td>\n",
       "      <td>5</td>\n",
       "      <td>6</td>\n",
       "      <td>180</td>\n",
       "      <td>18</td>\n",
       "      <td>3100</td>\n",
       "    </tr>\n",
       "    <tr>\n",
       "      <td>6</td>\n",
       "      <td>6</td>\n",
       "      <td>7</td>\n",
       "      <td>98</td>\n",
       "      <td>19</td>\n",
       "      <td>2700</td>\n",
       "    </tr>\n",
       "    <tr>\n",
       "      <td>7</td>\n",
       "      <td>7</td>\n",
       "      <td>8</td>\n",
       "      <td>105</td>\n",
       "      <td>16</td>\n",
       "      <td>2475</td>\n",
       "    </tr>\n",
       "    <tr>\n",
       "      <td>8</td>\n",
       "      <td>8</td>\n",
       "      <td>9</td>\n",
       "      <td>112</td>\n",
       "      <td>23</td>\n",
       "      <td>3625</td>\n",
       "    </tr>\n",
       "    <tr>\n",
       "      <td>9</td>\n",
       "      <td>9</td>\n",
       "      <td>10</td>\n",
       "      <td>109</td>\n",
       "      <td>28</td>\n",
       "      <td>3525</td>\n",
       "    </tr>\n",
       "  </tbody>\n",
       "</table>\n",
       "</div>"
      ],
      "text/plain": [
       "   index  Sales Person  Intelligence  Extroversion  $ Sales/Week\n",
       "0      0             1            89            21          2625\n",
       "1      1             2            93            24          2700\n",
       "2      2             3            91            21          3100\n",
       "3      3             4           122            23          3150\n",
       "4      4             5           115            27          3175\n",
       "5      5             6           180            18          3100\n",
       "6      6             7            98            19          2700\n",
       "7      7             8           105            16          2475\n",
       "8      8             9           112            23          3625\n",
       "9      9            10           109            28          3525"
      ]
     },
     "execution_count": 14,
     "metadata": {},
     "output_type": "execute_result"
    }
   ],
   "source": [
    "sql = 'SELECT * from scores limit 10'\n",
    "sales_data_df = pd.read_sql(sql, engine)\n",
    "sales_data_df"
   ]
  },
  {
   "cell_type": "markdown",
   "metadata": {},
   "source": [
    "## Assignment 3\n"
   ]
  },
  {
   "cell_type": "markdown",
   "metadata": {},
   "source": [
    "### Q1 pg 25"
   ]
  },
  {
   "cell_type": "code",
   "execution_count": 10,
   "metadata": {},
   "outputs": [
    {
     "name": "stdout",
     "output_type": "stream",
     "text": [
      "     Names  Grades\n",
      "0      Bob      76\n",
      "1  Jessica      -2\n",
      "2     Mary      77\n",
      "3     John      78\n",
      "4      Mel     101\n",
      "\n",
      "df after replacement\n",
      "\n",
      "     Names  Grades\n",
      "0      Bob      76\n",
      "1  Jessica       0\n",
      "2     Mary      77\n",
      "3     John      78\n",
      "4      Mel     101\n"
     ]
    }
   ],
   "source": [
    "names = ['Bob','Jessica','Mary','John','Mel']\n",
    "grades = [76,-2,77,78,101]\n",
    "GradeList = zip(names,grades)\n",
    "df = pd.DataFrame(data = GradeList,\n",
    "columns=['Names', 'Grades'])\n",
    "print(df)\n",
    "df.loc[(df['Grades'] < 0,'Grades')] = 0\n",
    "print(\"\")\n",
    "print(\"df after replacement\")\n",
    "print(\"\")\n",
    "print(df)"
   ]
  },
  {
   "cell_type": "markdown",
   "metadata": {},
   "source": [
    "## Assignment 4"
   ]
  },
  {
   "cell_type": "markdown",
   "metadata": {},
   "source": [
    "### Q1 Pg 34"
   ]
  },
  {
   "cell_type": "code",
   "execution_count": 11,
   "metadata": {},
   "outputs": [
    {
     "name": "stdout",
     "output_type": "stream",
     "text": [
      "     fname     lname  gender  age  exercise  hours  grade  \\\n",
      "0   Marcia      Pugh  female   17         3     10   82.4   \n",
      "1   Kadeem  Morrison    male   18         4      4   78.2   \n",
      "2     Nash    Powell    male   18         5      9   79.3   \n",
      "3  Noelani    Wagner  female   14         2      7   83.2   \n",
      "4  Noelani    Cherry  female   18         4     15   87.4   \n",
      "\n",
      "                                    address  \n",
      "0   9253 Richardson Road, Matawan, NJ 07747  \n",
      "1          33 Spring Dr., Taunton, MA 02780  \n",
      "2          41 Hill Avenue, Mentor, OH 44060  \n",
      "3        8839 Marshall St., Miami, FL 33125  \n",
      "4  8304 Charles Rd., Lewis Center, OH 43035  \n"
     ]
    }
   ],
   "source": [
    "df = pd.read_csv(\"gradedata.csv\")\n",
    "print(df.head())\n",
    "bins = [0, 79, 100]\n",
    "\n",
    "group_names = ['Fail', 'Pass']\n",
    "df['lettergrade'] = pd.cut(df['grade'], bins,labels=group_names)"
   ]
  },
  {
   "cell_type": "code",
   "execution_count": 12,
   "metadata": {},
   "outputs": [
    {
     "name": "stdout",
     "output_type": "stream",
     "text": [
      "     fname     lname  gender  age  exercise  hours  grade  \\\n",
      "0   Marcia      Pugh  female   17         3     10   82.4   \n",
      "1   Kadeem  Morrison    male   18         4      4   78.2   \n",
      "2     Nash    Powell    male   18         5      9   79.3   \n",
      "3  Noelani    Wagner  female   14         2      7   83.2   \n",
      "4  Noelani    Cherry  female   18         4     15   87.4   \n",
      "\n",
      "                                    address lettergrade  \n",
      "0   9253 Richardson Road, Matawan, NJ 07747        Pass  \n",
      "1          33 Spring Dr., Taunton, MA 02780        Fail  \n",
      "2          41 Hill Avenue, Mentor, OH 44060        Pass  \n",
      "3        8839 Marshall St., Miami, FL 33125        Pass  \n",
      "4  8304 Charles Rd., Lewis Center, OH 43035        Pass  \n"
     ]
    }
   ],
   "source": [
    "print(df.head())"
   ]
  },
  {
   "cell_type": "markdown",
   "metadata": {},
   "source": [
    "### Q2 37"
   ]
  },
  {
   "cell_type": "code",
   "execution_count": 13,
   "metadata": {},
   "outputs": [
    {
     "name": "stdout",
     "output_type": "stream",
     "text": [
      "     fname     lname  gender  age  exercise  hours  grade  \\\n",
      "0   Marcia      Pugh  female   17         3     10   82.4   \n",
      "1   Kadeem  Morrison    male   18         4      4   78.2   \n",
      "2     Nash    Powell    male   18         5      9   79.3   \n",
      "3  Noelani    Wagner  female   14         2      7   83.2   \n",
      "4  Noelani    Cherry  female   18         4     15   87.4   \n",
      "5     Neil   Whitley    male   16         5     16   88.7   \n",
      "6    Nelle    Golden  female   17         1      9   80.2   \n",
      "7  Armando   Hoffman    male   17         5     18   95.1   \n",
      "8  Illiana     Rojas  female   15         5      9   76.5   \n",
      "9     Neil    Wooten    male   15         3     15   89.7   \n",
      "\n",
      "                                    address lettergrade  timemgmt  \n",
      "0   9253 Richardson Road, Matawan, NJ 07747        Pass  not busy  \n",
      "1          33 Spring Dr., Taunton, MA 02780        Fail      busy  \n",
      "2          41 Hill Avenue, Mentor, OH 44060        Pass      busy  \n",
      "3        8839 Marshall St., Miami, FL 33125        Pass  not busy  \n",
      "4  8304 Charles Rd., Lewis Center, OH 43035        Pass      busy  \n",
      "5  40 Washington Ave., Bloomfield, NJ 07003        Pass      busy  \n",
      "6     9768 Hanover Dr., Meadville, PA 16335        Pass  not busy  \n",
      "7     360 Manor Drive, Northville, MI 48167        Pass      busy  \n",
      "8  9425 Studebaker Dr., Thibodaux, LA 70301        Fail      busy  \n",
      "9   400 Bridge Court, Soddy Daisy, TN 37379        Pass  not busy  \n"
     ]
    }
   ],
   "source": [
    "df['timemgmt'] = np.where((df['exercise']>3)\n",
    " & (df['grade'] > 17),'busy', 'not busy')\n",
    "print(df.head(10))"
   ]
  }
 ],
 "metadata": {
  "kernelspec": {
   "display_name": "Python 3",
   "language": "python",
   "name": "python3"
  },
  "language_info": {
   "codemirror_mode": {
    "name": "ipython",
    "version": 3
   },
   "file_extension": ".py",
   "mimetype": "text/x-python",
   "name": "python",
   "nbconvert_exporter": "python",
   "pygments_lexer": "ipython3",
   "version": "3.7.4"
  }
 },
 "nbformat": 4,
 "nbformat_minor": 2
}
